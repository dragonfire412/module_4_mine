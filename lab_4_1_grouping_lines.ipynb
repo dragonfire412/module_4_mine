{
 "cells": [
  {
   "cell_type": "markdown",
   "metadata": {},
   "source": [
    "# Lab 4.1 -  Grouping blocks of data \n",
    "\n",
    "In this lab, we will practice some of the techniques that you learned in the last few week, namely grouping blocks of data lines using the unfold technique."
   ]
  },
  {
   "cell_type": "markdown",
   "metadata": {},
   "source": [
    "## Reading in current progress"
   ]
  },
  {
   "cell_type": "code",
   "execution_count": 1,
   "metadata": {},
   "outputs": [
    {
     "data": {
      "text/plain": [
       "\"Gordon M. Aamoth, Jr.\\n 32\\n Sandler O'Neill + Partners, World Trade Center.\\nEdelmiro Abad\\n 54\\n Brooklyn, N.Y., Fiduciary Trust Company International, World Trade Center.\\nMarie Rose Abad\\n 49\\n Keefe, Bruyette&Woods, Inc., World Trade Center.\\nAndrew Anthony Abate\\n 37\\n Melville, N.Y., Cantor Fitzgerald, World Trade Center.\\nVincent Paul Abate\\n 40\\n Brooklyn, N.Y., Cantor Fitzgerald, World Trade Center.\\nLaurence Christopher Abel\\n 37\\n New York City, Cantor Fitzgerald, World Trade Center.\\nAlona Abraham\\n 3\""
      ]
     },
     "execution_count": 1,
     "metadata": {},
     "output_type": "execute_result"
    }
   ],
   "source": [
    "with open('911_deaths_extra_removed.csv') as f:\n",
    "    content = f.read()\n",
    "content[:500]"
   ]
  },
  {
   "cell_type": "code",
   "execution_count": 23,
   "metadata": {},
   "outputs": [
    {
     "data": {
      "text/plain": [
       "['Gordon M. Aamoth, Jr.',\n",
       " ' 32',\n",
       " \" Sandler O'Neill + Partners, World Trade Center.\",\n",
       " 'Edelmiro Abad',\n",
       " ' 54',\n",
       " ' Brooklyn, N.Y., Fiduciary Trust Company International, World Trade Center.',\n",
       " 'Marie Rose Abad',\n",
       " ' 49',\n",
       " ' Keefe, Bruyette&Woods, Inc., World Trade Center.',\n",
       " 'Andrew Anthony Abate',\n",
       " ' 37',\n",
       " ' Melville, N.Y., Cantor Fitzgerald, World Trade Center.',\n",
       " 'Vincent Paul Abate',\n",
       " ' 40',\n",
       " ' Brooklyn, N.Y., Cantor Fitzgerald, World Trade Center.',\n",
       " 'Laurence Christopher Abel',\n",
       " ' 37',\n",
       " ' New York City, Cantor Fitzgerald, World Trade Center.',\n",
       " 'Alona Abraham',\n",
       " ' 30']"
      ]
     },
     "execution_count": 23,
     "metadata": {},
     "output_type": "execute_result"
    }
   ],
   "source": [
    "culled_lines = content.split('\\n')\n",
    "culled_lines[:20]"
   ]
  },
  {
   "cell_type": "markdown",
   "metadata": {},
   "source": [
    "## Problem 1 -- Combining block of data\n",
    "\n",
    "You have probably noticed that the data for each victim is spread across three lines.  In this problem we will use the unfold technique to group and join these lines.\n",
    "\n",
    "To complete this task, we will\n",
    "\n",
    "1. Create `get_layer` function that pulls off three lines and joins them with commas\n",
    "2. Create a `get_remaining` function that returns the remainder of the lines (with the 1st three removed).\n",
    "3. Use the unfold pattern to collect and group the data blocks."
   ]
  },
  {
   "cell_type": "markdown",
   "metadata": {},
   "source": [
    "### Task 1 - Develop `get_layer` function\n",
    "\n",
    "First, create a function that pulls off and comma-joins (with a trailing space) the first three rows of the input list."
   ]
  },
  {
   "cell_type": "code",
   "execution_count": 3,
   "metadata": {},
   "outputs": [
    {
     "data": {
      "text/plain": [
       "['Gordon M. Aamoth, Jr.',\n",
       " ' 32',\n",
       " \" Sandler O'Neill + Partners, World Trade Center.\"]"
      ]
     },
     "execution_count": 3,
     "metadata": {},
     "output_type": "execute_result"
    }
   ],
   "source": [
    "example_block = culled_lines[:3]\n",
    "example_block"
   ]
  },
  {
   "cell_type": "code",
   "execution_count": 4,
   "metadata": {},
   "outputs": [
    {
     "data": {
      "text/plain": [
       "\"Gordon M. Aamoth, Jr., 32, Sandler O'Neill + Partners, World Trade Center.\""
      ]
     },
     "execution_count": 4,
     "metadata": {},
     "output_type": "execute_result"
    }
   ],
   "source": [
    "\",\".join(culled_lines[:3]) # trailing space already included at start of 2nd and 3rd lines"
   ]
  },
  {
   "cell_type": "code",
   "execution_count": 5,
   "metadata": {},
   "outputs": [],
   "source": [
    "get_layer = lambda l: \",\".join(l[:3])"
   ]
  },
  {
   "cell_type": "markdown",
   "metadata": {},
   "source": [
    "### Task 2 - Develop `get_remaining` function\n",
    "\n",
    "First, create a function that pulls off and comma-joins the first three rows of the input list.\n",
    "\n",
    "Next, write a function to get everything but the first three rows"
   ]
  },
  {
   "cell_type": "code",
   "execution_count": 6,
   "metadata": {},
   "outputs": [],
   "source": [
    "get_remaining = lambda l: l[3:]"
   ]
  },
  {
   "cell_type": "markdown",
   "metadata": {},
   "source": [
    "### Task 3 - Make sure you understand the last step and computation will complete.\n",
    "\n",
    "First, create a function that pulls off and comma-joins the first three rows of the input list."
   ]
  },
  {
   "cell_type": "code",
   "execution_count": 7,
   "metadata": {},
   "outputs": [],
   "source": [
    "# Make sure the list length is a multiple of 3\n",
    "assert len(culled_lines) % 3 == 0\n",
    "# Great, we can slice off 3's without having to worry about an end case"
   ]
  },
  {
   "cell_type": "code",
   "execution_count": 8,
   "metadata": {},
   "outputs": [
    {
     "data": {
      "text/plain": [
       "['Igor Zukelman',\n",
       " ' 29',\n",
       " ' Fiduciary Trust Company International, World Trade Center.']"
      ]
     },
     "execution_count": 8,
     "metadata": {},
     "output_type": "execute_result"
    }
   ],
   "source": [
    "# We know we are at the final step when len(remaining) <= 3\n",
    "next_to_last_remaining = culled_lines[-3:]\n",
    "next_to_last_remaining"
   ]
  },
  {
   "cell_type": "code",
   "execution_count": 9,
   "metadata": {},
   "outputs": [
    {
     "data": {
      "text/plain": [
       "[]"
      ]
     },
     "execution_count": 9,
     "metadata": {},
     "output_type": "execute_result"
    }
   ],
   "source": [
    "get_remaining(next_to_last_remaining)"
   ]
  },
  {
   "cell_type": "markdown",
   "metadata": {},
   "source": [
    "### Task 4 - Use the unfold pattern to unpack the data groups into rows of data.\n",
    "\n",
    "Now that you have all the components, use the unfold pattern (see lecture 4.1) to unpack the data into a list of rows, one per 911 victim."
   ]
  },
  {
   "cell_type": "code",
   "execution_count": 13,
   "metadata": {},
   "outputs": [],
   "source": [
    "lines = culled_lines # copy to preserve original for as-needs testing\n",
    "joined_lines = []\n",
    "\n",
    "while lines:\n",
    "    joined_lines.append(get_layer(lines))\n",
    "    lines = get_remaining(lines)"
   ]
  },
  {
   "cell_type": "code",
   "execution_count": 11,
   "metadata": {},
   "outputs": [
    {
     "data": {
      "text/plain": [
       "['Joseph J. Zuccala, 54, Croton-on-Hudson, N.Y., Fuji Bank, Ltd., World Trade Center.',\n",
       " 'Andrew Steven Zucker, 27, Riverdale, N.Y., Harris Beach LLP, World Trade Center.',\n",
       " 'Igor Zukelman, 29, Fiduciary Trust Company International, World Trade Center.']"
      ]
     },
     "execution_count": 11,
     "metadata": {},
     "output_type": "execute_result"
    }
   ],
   "source": [
    "joined_lines[-3:]"
   ]
  },
  {
   "cell_type": "markdown",
   "metadata": {},
   "source": [
    "### Task 5 - Save your work\n",
    "\n",
    "Now we will save our work by writing our progress to a text file `911_Deaths_Grouped.csv`"
   ]
  },
  {
   "cell_type": "code",
   "execution_count": 15,
   "metadata": {},
   "outputs": [],
   "source": [
    "with open(\"911_Deaths_Grouped_lab.csv\", \"w\") as of:\n",
    "    of.write(\"\\n\".join(joined_lines))"
   ]
  },
  {
   "cell_type": "markdown",
   "metadata": {},
   "source": [
    "### Task 6 - Inspect the file in VSCode and identify any problems.\n",
    "\n",
    "Before we proceed, open an inspect the file.  Document any problems (if they exist) that you find, then discuss how you might solve each problem."
   ]
  },
  {
   "cell_type": "markdown",
   "metadata": {},
   "source": [
    "> Contains extra commas in names or business/job names, which would be problematic for a csv parser\n",
    "\n",
    "> Use the csv library instead of rolling own formatting"
   ]
  },
  {
   "cell_type": "markdown",
   "metadata": {},
   "source": [
    "# Playing with code that will avoid comma issue"
   ]
  },
  {
   "cell_type": "code",
   "execution_count": 16,
   "metadata": {},
   "outputs": [],
   "source": [
    "def get_three(li):    \n",
    "    return [li.pop(0), li.pop(0), li.pop(0)] # does remove from list"
   ]
  },
  {
   "cell_type": "code",
   "execution_count": 24,
   "metadata": {},
   "outputs": [],
   "source": [
    "line_elems_list = []\n",
    "lines_test = culled_lines[:]\n",
    "\n",
    "while lines_test:\n",
    "    elems = get_three(lines_test)\n",
    "    line_elems_list.append([e.strip() for e in elems])"
   ]
  },
  {
   "cell_type": "code",
   "execution_count": 26,
   "metadata": {},
   "outputs": [
    {
     "data": {
      "text/plain": [
       "[['Gordon M. Aamoth, Jr.',\n",
       "  '32',\n",
       "  \"Sandler O'Neill + Partners, World Trade Center.\"],\n",
       " ['Edelmiro Abad',\n",
       "  '54',\n",
       "  'Brooklyn, N.Y., Fiduciary Trust Company International, World Trade Center.'],\n",
       " ['Marie Rose Abad', '49', 'Keefe, Bruyette&Woods, Inc., World Trade Center.']]"
      ]
     },
     "execution_count": 26,
     "metadata": {},
     "output_type": "execute_result"
    }
   ],
   "source": [
    "line_elems_list[:3]"
   ]
  },
  {
   "cell_type": "code",
   "execution_count": 19,
   "metadata": {},
   "outputs": [],
   "source": [
    "import csv\n",
    "with open(\"911_test.csv\", \"w\") as outfile:\n",
    "    writer = csv.writer(outfile)\n",
    "    writer.writerows(line_elems_list)"
   ]
  },
  {
   "cell_type": "code",
   "execution_count": 25,
   "metadata": {},
   "outputs": [
    {
     "data": {
      "text/plain": [
       "8931"
      ]
     },
     "execution_count": 25,
     "metadata": {},
     "output_type": "execute_result"
    }
   ],
   "source": [
    "len(culled_lines)"
   ]
  },
  {
   "cell_type": "code",
   "execution_count": null,
   "metadata": {},
   "outputs": [],
   "source": [
    "#import pandas as pd\n",
    "#fi = pd.read_csv(\"911_Deaths_Grouped.csv\") # ParserError\n",
    "#fi = pd.read_csv(\"911_test.csv\") # happy"
   ]
  }
 ],
 "metadata": {
  "kernelspec": {
   "display_name": "Python 3",
   "language": "python",
   "name": "python3"
  },
  "language_info": {
   "codemirror_mode": {
    "name": "ipython",
    "version": 3
   },
   "file_extension": ".py",
   "mimetype": "text/x-python",
   "name": "python",
   "nbconvert_exporter": "python",
   "pygments_lexer": "ipython3",
   "version": "3.7.6"
  }
 },
 "nbformat": 4,
 "nbformat_minor": 2
}
