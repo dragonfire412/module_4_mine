{
 "cells": [
  {
   "cell_type": "markdown",
   "metadata": {},
   "source": [
    "# Lecture 4.4 - Basics of cleaning messy text files \n",
    "## Part 1 - Getting the know the file and removing unwanted lines\n",
    "\n",
    "In this lecture, we will go over a number of cases of messy data, and how to use Python to fix these problems.  This includes\n",
    "\n",
    "1. Use VSCode to inspect the file and identify problems.\n",
    "1. Removing unwanted lines."
   ]
  },
  {
   "cell_type": "markdown",
   "metadata": {},
   "source": [
    "## Example - 9/11 Deaths \n",
    "\n",
    "I have included a file named `911_Deaths.csv`.  Download this file from D2L and open it in VScode.  Be sure to turn on **View > Render Whitespace**, which I find useful when working with messy data."
   ]
  },
  {
   "cell_type": "markdown",
   "metadata": {},
   "source": [
    "> Not actually comma-separated\n",
    "  Inclusion of commas in names, etc. may be problematic with interpreting\n",
    "  Values are on separate lines rather than one\n",
    "  Periodic page break - 1 of 91, etc."
   ]
  },
  {
   "cell_type": "markdown",
   "metadata": {},
   "source": [
    "## Reading in the lines of the file\n",
    "\n",
    "I have included a file named `911_Deaths.csv`.  Open this file and split the body into a list called `lines`."
   ]
  },
  {
   "cell_type": "code",
   "execution_count": 1,
   "metadata": {},
   "outputs": [
    {
     "data": {
      "text/plain": [
       "['Gordon M. Aamoth, Jr.\\n',\n",
       " ' 32\\n',\n",
       " \" Sandler O'Neill + Partners, World Trade Center.\\n\",\n",
       " 'Edelmiro Abad\\n',\n",
       " ' 54\\n']"
      ]
     },
     "execution_count": 1,
     "metadata": {},
     "output_type": "execute_result"
    }
   ],
   "source": [
    "with open(\"911_Deaths.csv\", \"r\") as fi:\n",
    "    lines = fi.readlines()\n",
    "lines[:5]"
   ]
  },
  {
   "cell_type": "code",
   "execution_count": null,
   "metadata": {},
   "outputs": [],
   "source": [
    "#import pandas as pd\n",
    "#f = pd.read_csv(\"911_Deaths.csv\") # long ParserError - yeah, this is a bad file"
   ]
  },
  {
   "cell_type": "markdown",
   "metadata": {},
   "source": [
    "## Step 1: Remove any extraneous lines"
   ]
  },
  {
   "cell_type": "code",
   "execution_count": 2,
   "metadata": {},
   "outputs": [
    {
     "data": {
      "text/plain": [
       "['Terrance Andre Aiken\\n',\n",
       " ' 30\\n',\n",
       " ' Marsh&McLennan consultant, World Trade Center.\\n',\n",
       " '\\n',\n",
       " '\\n',\n",
       " '\\t\\t\\t\\t\\t\\t\\t\\t\\t\\t1 of 91\\n',\n",
       " '\\n',\n",
       " '\\n',\n",
       " 'Godwin O. Ajala\\n',\n",
       " ' 33\\n',\n",
       " ' Summit Security Services, Inc., World Trade Center, died 9/15/01.\\n']"
      ]
     },
     "execution_count": 2,
     "metadata": {},
     "output_type": "execute_result"
    }
   ],
   "source": [
    "example_w_extra = lines[96:107]\n",
    "example_w_extra"
   ]
  },
  {
   "cell_type": "markdown",
   "metadata": {},
   "source": [
    "## Methods for removing extra lines.\n",
    "\n",
    "* `strip` and check for a length of 0\n",
    "* Check if some substring is `in` the line.\n",
    "* Create a regular expression to match the line type"
   ]
  },
  {
   "cell_type": "code",
   "execution_count": 5,
   "metadata": {},
   "outputs": [
    {
     "data": {
      "text/plain": [
       "['\\t\\t\\t\\t\\t\\t\\t\\t\\t\\t86 of 91\\n',\n",
       " '\\t\\t\\t\\t\\t\\t\\t\\t\\t\\t87 of 91\\n',\n",
       " '\\t\\t\\t\\t\\t\\t\\t\\t\\t\\t88 of 91\\n',\n",
       " '\\t\\t\\t\\t\\t\\t\\t\\t\\t\\t89 of 91\\n',\n",
       " '\\t\\t\\t\\t\\t\\t\\t\\t\\t\\t90 of 91\\n']"
      ]
     },
     "execution_count": 5,
     "metadata": {},
     "output_type": "execute_result"
    }
   ],
   "source": [
    "[l for l in lines if l.startswith(\"\\t\")][-5:]"
   ]
  },
  {
   "cell_type": "markdown",
   "metadata": {},
   "source": [
    "<h2> <font color=\"red\"> Exercise 4.4.2 </font> </h2>\n",
    "\n",
    "Rewrite a predicate function (i.e. Boolean lambda) called `is_blank` that returns `True` for blank lines and `False` otherwise."
   ]
  },
  {
   "cell_type": "code",
   "execution_count": 6,
   "metadata": {},
   "outputs": [
    {
     "data": {
      "text/plain": [
       "True"
      ]
     },
     "execution_count": 6,
     "metadata": {},
     "output_type": "execute_result"
    }
   ],
   "source": [
    "example_blank_line = lines[99]\n",
    "example_blank_line == \"\\n\" # True\n",
    "example_blank_line.startswith(\"\\n\") # True"
   ]
  },
  {
   "cell_type": "code",
   "execution_count": 7,
   "metadata": {},
   "outputs": [],
   "source": [
    "is_blank = lambda line: line.startswith(\"\\n\")"
   ]
  },
  {
   "cell_type": "markdown",
   "metadata": {},
   "source": [
    "<h2> <font color=\"red\"> Exercise 4.4.3 </font> </h2>\n",
    "\n",
    "Rewrite a predicate function called `is_page_num_line` that returns `True` for the page number lines and `False` otherwise."
   ]
  },
  {
   "cell_type": "code",
   "execution_count": 8,
   "metadata": {},
   "outputs": [
    {
     "data": {
      "text/plain": [
       "'\\t\\t\\t\\t\\t\\t\\t\\t\\t\\t1 of 91\\n'"
      ]
     },
     "execution_count": 8,
     "metadata": {},
     "output_type": "execute_result"
    }
   ],
   "source": [
    "example_page_num_line = lines[101]\n",
    "example_page_num_line"
   ]
  },
  {
   "cell_type": "code",
   "execution_count": 9,
   "metadata": {},
   "outputs": [
    {
     "data": {
      "text/plain": [
       "False"
      ]
     },
     "execution_count": 9,
     "metadata": {},
     "output_type": "execute_result"
    }
   ],
   "source": [
    "is_page_num_line = lambda line: line.startswith(\"\\t\")\n",
    "is_page_num_line(example_page_num_line) # True\n",
    "is_page_num_line(example_blank_line)"
   ]
  },
  {
   "cell_type": "markdown",
   "metadata": {},
   "source": [
    "<h2> <font color=\"red\"> Exercise 4.4.4 </font> </h2>\n",
    "\n",
    "Identify some situation were your approach might fail."
   ]
  },
  {
   "cell_type": "markdown",
   "metadata": {},
   "source": [
    ">is_blank should work, as having anything after the \\n would necessarily put it on the next line\n",
    "\n",
    ">is_page_num_line would be a problem if there were any meaningful lines that started with a \\t (but there aren't any currently)"
   ]
  },
  {
   "cell_type": "markdown",
   "metadata": {},
   "source": [
    "## Be as specific as possible\n",
    "\n",
    "When removing lines, be very specific so you don't lose data!"
   ]
  },
  {
   "cell_type": "markdown",
   "metadata": {},
   "source": [
    "<h2> <font color=\"red\"> Exercise 4.4.5 </font> </h2>\n",
    "\n",
    "Complete the following steps."
   ]
  },
  {
   "cell_type": "markdown",
   "metadata": {},
   "source": [
    "#### Describe the pattern in words"
   ]
  },
  {
   "cell_type": "code",
   "execution_count": 10,
   "metadata": {},
   "outputs": [
    {
     "data": {
      "text/plain": [
       "'\\t\\t\\t\\t\\t\\t\\t\\t\\t\\t1 of 91\\n'"
      ]
     },
     "execution_count": 10,
     "metadata": {},
     "output_type": "execute_result"
    }
   ],
   "source": [
    "example_page_num_line = lines[101]\n",
    "example_page_num_line"
   ]
  },
  {
   "cell_type": "markdown",
   "metadata": {},
   "source": [
    "> starts with a bunch of \\t, then (num) of 91"
   ]
  },
  {
   "cell_type": "markdown",
   "metadata": {},
   "source": [
    "#### Write a regular expression to `match` the problem"
   ]
  },
  {
   "cell_type": "code",
   "execution_count": 31,
   "metadata": {},
   "outputs": [
    {
     "data": {
      "text/plain": [
       "<re.Match object; span=(0, 1), match='\\t'>"
      ]
     },
     "execution_count": 31,
     "metadata": {},
     "output_type": "execute_result"
    }
   ],
   "source": [
    "import re\n",
    "pattern = re.compile(r\"\\t\")\n",
    "pattern.match(example_page_num_line)"
   ]
  },
  {
   "cell_type": "code",
   "execution_count": 34,
   "metadata": {},
   "outputs": [
    {
     "data": {
      "text/plain": [
       "['\\t\\t\\t\\t\\t\\t\\t\\t\\t\\t1 of 91\\n',\n",
       " '\\t\\t\\t\\t\\t\\t\\t\\t\\t\\t2 of 91\\n',\n",
       " '\\t\\t\\t\\t\\t\\t\\t\\t\\t\\t3 of 91\\n',\n",
       " '\\t\\t\\t\\t\\t\\t\\t\\t\\t\\t4 of 91\\n',\n",
       " '\\t\\t\\t\\t\\t\\t\\t\\t\\t\\t5 of 91\\n']"
      ]
     },
     "execution_count": 34,
     "metadata": {},
     "output_type": "execute_result"
    }
   ],
   "source": [
    "[l for l in lines if pattern.match(l)][:5]"
   ]
  },
  {
   "cell_type": "markdown",
   "metadata": {},
   "source": [
    "#### Why is `match` better than `search` for this task?"
   ]
  },
  {
   "cell_type": "markdown",
   "metadata": {},
   "source": [
    "> We know the lines we're looking for will start with the \\t, so we can use match and skip the starts-with character"
   ]
  },
  {
   "cell_type": "markdown",
   "metadata": {},
   "source": [
    "## Combining the two predicate functions"
   ]
  },
  {
   "cell_type": "code",
   "execution_count": 12,
   "metadata": {},
   "outputs": [],
   "source": [
    "needs_removal = lambda l: is_blank(l) or is_page_num_line(l)"
   ]
  },
  {
   "cell_type": "code",
   "execution_count": 13,
   "metadata": {},
   "outputs": [
    {
     "data": {
      "text/plain": [
       "[('Terrance Andre Aiken\\n', False),\n",
       " (' 30\\n', False),\n",
       " (' Marsh&McLennan consultant, World Trade Center.\\n', False),\n",
       " ('\\n', True),\n",
       " ('\\n', True),\n",
       " ('\\t\\t\\t\\t\\t\\t\\t\\t\\t\\t1 of 91\\n', True),\n",
       " ('\\n', True),\n",
       " ('\\n', True),\n",
       " ('Godwin O. Ajala\\n', False),\n",
       " (' 33\\n', False),\n",
       " (' Summit Security Services, Inc., World Trade Center, died 9/15/01.\\n',\n",
       "  False)]"
      ]
     },
     "execution_count": 13,
     "metadata": {},
     "output_type": "execute_result"
    }
   ],
   "source": [
    "[(l, needs_removal(l)) for l in example_w_extra ]"
   ]
  },
  {
   "cell_type": "markdown",
   "metadata": {},
   "source": [
    "#### Removing the extraneous lines"
   ]
  },
  {
   "cell_type": "code",
   "execution_count": 14,
   "metadata": {
    "scrolled": true
   },
   "outputs": [
    {
     "data": {
      "text/plain": [
       "['Gordon M. Aamoth, Jr.\\n',\n",
       " ' 32\\n',\n",
       " \" Sandler O'Neill + Partners, World Trade Center.\\n\",\n",
       " 'Edelmiro Abad\\n',\n",
       " ' 54\\n',\n",
       " ' Brooklyn, N.Y., Fiduciary Trust Company International, World Trade Center.\\n',\n",
       " 'Marie Rose Abad\\n',\n",
       " ' 49\\n',\n",
       " ' Keefe, Bruyette&Woods, Inc., World Trade Center.\\n',\n",
       " 'Andrew Anthony Abate\\n',\n",
       " ' 37\\n',\n",
       " ' Melville, N.Y., Cantor Fitzgerald, World Trade Center.\\n',\n",
       " 'Vincent Paul Abate\\n',\n",
       " ' 40\\n',\n",
       " ' Brooklyn, N.Y., Cantor Fitzgerald, World Trade Center.\\n',\n",
       " 'Laurence Christopher Abel\\n',\n",
       " ' 37\\n',\n",
       " ' New York City, Cantor Fitzgerald, World Trade Center.\\n',\n",
       " 'Alona Abraham\\n',\n",
       " ' 30\\n',\n",
       " ' Ashdod, Israel, Passenger, United 175, World Trade Center.\\n',\n",
       " 'William F. Abrahamson\\n',\n",
       " ' 55\\n',\n",
       " ' Westchester County, N.Y., Marsh&McLennan Companies, Inc., World Trade Center.\\n',\n",
       " 'Richard Anthony Aceto\\n',\n",
       " ' 42\\n',\n",
       " ' Marsh&McLennan Companies, Inc., World Trade Center.\\n',\n",
       " 'Heinrich Bernhard Ackermann\\n',\n",
       " ' 38\\n',\n",
       " ' Aon Corporation, World Trade Center.\\n',\n",
       " 'Paul Acquaviva\\n',\n",
       " ' 29\\n',\n",
       " ' Glen Rock, N.J., Cantor Fitzgerald, World Trade Center.\\n',\n",
       " 'Christian Adams\\n',\n",
       " ' 37\\n',\n",
       " ' Passenger, United 93, Shanksville, Pa.\\n',\n",
       " 'Donald LaRoy Adams\\n',\n",
       " ' 28\\n',\n",
       " ' Cantor Fitzgerald, World Trade Center.\\n',\n",
       " 'Patrick Adams\\n',\n",
       " ' 61\\n',\n",
       " ' Fuji Bank, Ltd. security, World Trade Center.\\n',\n",
       " 'Shannon Lewis Adams\\n',\n",
       " ' 25\\n',\n",
       " ' Cantor Fitzgerald, World Trade Center.\\n',\n",
       " 'Stephen George Adams\\n',\n",
       " ' 51\\n',\n",
       " ' New York City, Windows on the World, World Trade Center.\\n',\n",
       " 'Ignatius Udo Adanga\\n',\n",
       " ' 62\\n',\n",
       " ' Bronx, N.Y., New York Metropolitan Transportation Council, World Trade Center.\\n',\n",
       " 'Christy A. Addamo\\n',\n",
       " ' 28\\n',\n",
       " ' New Hyde Park, N.Y., Marsh&McLennan Companies, Inc., World Trade Center.\\n',\n",
       " 'Terence Edward Adderley, Jr.\\n',\n",
       " ' 22\\n',\n",
       " ' New York City, Fred Alger Management, Inc., World Trade Center.\\n',\n",
       " 'Sophia B. Addo\\n',\n",
       " ' 36\\n',\n",
       " ' Bronx, N.Y., Windows on the World, World Trade Center.\\n',\n",
       " 'Lee Adler\\n',\n",
       " ' 48\\n',\n",
       " ' Cantor Fitzgerald, World Trade Center.\\n',\n",
       " 'Daniel Thomas Afflitto\\n',\n",
       " ' 32\\n',\n",
       " ' Manalapan, N.J., Cantor Fitzgerald, World Trade Center.\\n',\n",
       " 'Emmanuel Akwasi Afuakwah\\n',\n",
       " ' 37\\n',\n",
       " ' Windows on the World, World Trade Center.\\n',\n",
       " 'Alok Agarwal\\n',\n",
       " ' 36\\n',\n",
       " ' Cantor Fitzgerald, World Trade Center.\\n',\n",
       " 'Mukul Kumar Agarwala\\n',\n",
       " ' 37\\n',\n",
       " ' Fiduciary Trust Company International, World Trade Center.\\n',\n",
       " 'Joseph Agnello\\n',\n",
       " ' 35\\n',\n",
       " ' Belle Harbor, N.Y., New York City Fire Department, World Trade Center.\\n',\n",
       " 'David Scott Agnes\\n',\n",
       " ' 46\\n',\n",
       " ' Port Washington, N.Y., Cantor Fitzgerald, World Trade Center.\\n',\n",
       " 'Joao Alberto da Fonseca Aguiar, Jr.\\n',\n",
       " ' 30\\n',\n",
       " ' Hoboken, N.J., Keefe, Bruyette&Woods, Inc., World Trade Center.\\n',\n",
       " 'Brian G. Ahearn\\n',\n",
       " ' 43\\n',\n",
       " ' Huntington, N.Y., New York City Fire Department, World Trade Center.\\n',\n",
       " 'Jeremiah Joseph Ahern\\n',\n",
       " ' 74\\n',\n",
       " ' New Jersey, New York State Department of Taxation and Finance, World Trade Center.\\n',\n",
       " 'Joanne Marie Ahladiotis\\n',\n",
       " ' 27\\n',\n",
       " ' Forest Hills, N.Y., Cantor Fitzgerald, World Trade Center.\\n',\n",
       " 'Shabbir Ahmed\\n',\n",
       " ' 47\\n',\n",
       " ' Brooklyn, N.Y., Windows on the World, World Trade Center.\\n',\n",
       " 'Terrance Andre Aiken\\n',\n",
       " ' 30\\n',\n",
       " ' Marsh&McLennan consultant, World Trade Center.\\n',\n",
       " 'Godwin O. Ajala\\n']"
      ]
     },
     "execution_count": 14,
     "metadata": {},
     "output_type": "execute_result"
    }
   ],
   "source": [
    "culled_lines = [l for l in lines if not needs_removal(l)]\n",
    "culled_lines[:100]"
   ]
  },
  {
   "cell_type": "code",
   "execution_count": 20,
   "metadata": {
    "scrolled": true
   },
   "outputs": [
    {
     "data": {
      "text/plain": [
       "['Gordon M. Aamoth, Jr.\\n',\n",
       " ' 32\\n',\n",
       " \" Sandler O'Neill + Partners, World Trade Center.\\n\",\n",
       " 'Edelmiro Abad\\n',\n",
       " ' 54\\n',\n",
       " ' Brooklyn, N.Y., Fiduciary Trust Company International, World Trade Center.\\n',\n",
       " 'Marie Rose Abad\\n',\n",
       " ' 49\\n',\n",
       " ' Keefe, Bruyette&Woods, Inc., World Trade Center.\\n',\n",
       " 'Andrew Anthony Abate\\n']"
      ]
     },
     "execution_count": 20,
     "metadata": {},
     "output_type": "execute_result"
    }
   ],
   "source": [
    "keep_line = lambda l: not needs_removal(l)\n",
    "culled_lines = [l for l in lines if keep_line(l)]\n",
    "culled_lines[:10]"
   ]
  },
  {
   "cell_type": "markdown",
   "metadata": {},
   "source": [
    "## Which reads better?"
   ]
  },
  {
   "cell_type": "code",
   "execution_count": 21,
   "metadata": {},
   "outputs": [],
   "source": [
    "culled_lines = [l for l in lines if not needs_removal(l)]\n",
    "culled_lines = [l for l in lines if keep_line(l)]"
   ]
  },
  {
   "cell_type": "markdown",
   "metadata": {},
   "source": [
    "#### Make it a function!"
   ]
  },
  {
   "cell_type": "code",
   "execution_count": 24,
   "metadata": {},
   "outputs": [
    {
     "data": {
      "text/plain": [
       "['Gordon M. Aamoth, Jr.\\n',\n",
       " ' 32\\n',\n",
       " \" Sandler O'Neill + Partners, World Trade Center.\\n\",\n",
       " 'Edelmiro Abad\\n',\n",
       " ' 54\\n',\n",
       " ' Brooklyn, N.Y., Fiduciary Trust Company International, World Trade Center.\\n',\n",
       " 'Marie Rose Abad\\n',\n",
       " ' 49\\n',\n",
       " ' Keefe, Bruyette&Woods, Inc., World Trade Center.\\n',\n",
       " 'Andrew Anthony Abate\\n']"
      ]
     },
     "execution_count": 24,
     "metadata": {},
     "output_type": "execute_result"
    }
   ],
   "source": [
    "culled_lines = [l for l in lines if keep_line(l)]\n",
    "culled_lines[:10]"
   ]
  },
  {
   "cell_type": "code",
   "execution_count": 17,
   "metadata": {},
   "outputs": [
    {
     "ename": "NameError",
     "evalue": "name 'pipeable' is not defined",
     "output_type": "error",
     "traceback": [
      "\u001b[0;31m---------------------------------------------------------------------------\u001b[0m",
      "\u001b[0;31mNameError\u001b[0m                                 Traceback (most recent call last)",
      "\u001b[0;32m<ipython-input-17-39cea2b3896d>\u001b[0m in \u001b[0;36m<module>\u001b[0;34m\u001b[0m\n\u001b[1;32m      1\u001b[0m \u001b[0;31m# Key\u001b[0m\u001b[0;34m\u001b[0m\u001b[0;34m\u001b[0m\u001b[0;34m\u001b[0m\u001b[0m\n\u001b[0;32m----> 2\u001b[0;31m \u001b[0mcull_lines\u001b[0m \u001b[0;34m=\u001b[0m \u001b[0mpipeable\u001b[0m\u001b[0;34m(\u001b[0m\u001b[0;32mlambda\u001b[0m \u001b[0mL\u001b[0m\u001b[0;34m:\u001b[0m \u001b[0;34m[\u001b[0m\u001b[0ml\u001b[0m \u001b[0;32mfor\u001b[0m \u001b[0ml\u001b[0m \u001b[0;32min\u001b[0m \u001b[0mL\u001b[0m \u001b[0;32mif\u001b[0m \u001b[0mkeep_line\u001b[0m\u001b[0;34m(\u001b[0m\u001b[0ml\u001b[0m\u001b[0;34m)\u001b[0m\u001b[0;34m]\u001b[0m\u001b[0;34m)\u001b[0m\u001b[0;34m\u001b[0m\u001b[0;34m\u001b[0m\u001b[0m\n\u001b[0m\u001b[1;32m      3\u001b[0m \u001b[0mculled_lines\u001b[0m \u001b[0;34m=\u001b[0m \u001b[0mcull_lines\u001b[0m\u001b[0;34m(\u001b[0m\u001b[0mlines\u001b[0m\u001b[0;34m)\u001b[0m\u001b[0;34m\u001b[0m\u001b[0;34m\u001b[0m\u001b[0m\n\u001b[1;32m      4\u001b[0m \u001b[0mculled_lines\u001b[0m\u001b[0;34m[\u001b[0m\u001b[0;34m:\u001b[0m\u001b[0;36m5\u001b[0m\u001b[0;34m]\u001b[0m\u001b[0;34m\u001b[0m\u001b[0;34m\u001b[0m\u001b[0m\n",
      "\u001b[0;31mNameError\u001b[0m: name 'pipeable' is not defined"
     ]
    }
   ],
   "source": [
    "# Key\n",
    "cull_lines = pipeable(lambda L: [l for l in L if keep_line(l)])\n",
    "culled_lines = cull_lines(lines)\n",
    "culled_lines[:5]"
   ]
  },
  {
   "cell_type": "markdown",
   "metadata": {},
   "source": [
    "# Clean Code Rule\n",
    "\n",
    "### *When writing Boolean expressions, avoid negatives whenever possible.*"
   ]
  },
  {
   "cell_type": "markdown",
   "metadata": {},
   "source": [
    "<h2> <font color=\"red\"> Exercise 4.4.5 -- Saving our work </font> </h2>\n",
    "\n",
    "Now we will save our work by writing our progress to a text file.\n",
    "\n",
    "Complete the following steps."
   ]
  },
  {
   "cell_type": "markdown",
   "metadata": {},
   "source": [
    "#### Step 1 -- `'\\n'` join the `culled_lines`"
   ]
  },
  {
   "cell_type": "code",
   "execution_count": 25,
   "metadata": {},
   "outputs": [],
   "source": [
    "out_text = \"\\n\".join(culled_lines)"
   ]
  },
  {
   "cell_type": "markdown",
   "metadata": {},
   "source": [
    "#### Step 2 -- Write the string to a file called `911_deaths_extra_removed.csv`"
   ]
  },
  {
   "cell_type": "code",
   "execution_count": 26,
   "metadata": {},
   "outputs": [],
   "source": [
    "with open(\"911_deaths_extra_removed.csv\", \"w+\") as of:\n",
    "    of.write(out_text)"
   ]
  },
  {
   "cell_type": "code",
   "execution_count": 27,
   "metadata": {},
   "outputs": [
    {
     "name": "stdout",
     "output_type": "stream",
     "text": [
      "Gordon M. Aamoth, Jr.\r\n",
      "\r\n",
      " 32\r\n",
      "\r\n",
      " Sandler O'Neill + Partners, World Trade Center.\r\n",
      "\r\n",
      "Edelmiro Abad\r\n",
      "\r\n",
      " 54\r\n",
      "\r\n",
      " Brooklyn, N.Y., Fiduciary Trust Company International, World Trade Center.\r\n",
      "\r\n",
      "Marie Rose Abad\r\n",
      "\r\n",
      " 49\r\n",
      "\r\n",
      " Keefe, Bruyette&Woods, Inc., World Trade Center.\r\n",
      "\r\n",
      "Andrew Anthony Abate\r\n",
      "\r\n",
      "cat: write error: Broken pipe\r\n"
     ]
    }
   ],
   "source": [
    "! cat 911_deaths_extra_removed.csv | head -20"
   ]
  }
 ],
 "metadata": {
  "kernelspec": {
   "display_name": "Python 3",
   "language": "python",
   "name": "python3"
  },
  "language_info": {
   "codemirror_mode": {
    "name": "ipython",
    "version": 3
   },
   "file_extension": ".py",
   "mimetype": "text/x-python",
   "name": "python",
   "nbconvert_exporter": "python",
   "pygments_lexer": "ipython3",
   "version": "3.7.6"
  }
 },
 "nbformat": 4,
 "nbformat_minor": 2
}
